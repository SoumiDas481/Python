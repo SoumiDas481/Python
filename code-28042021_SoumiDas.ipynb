{
 "cells": [
  {
   "cell_type": "code",
   "execution_count": 10,
   "metadata": {},
   "outputs": [],
   "source": [
    "BMI_list= [{\"Gender\": \"Male\", \"HeightCm\": 171, \"WeightKg\": 96 }, { \"Gender\": \"Male\", \"HeightCm\": 161, \"WeightKg\":\n",
    "85 }, { \"Gender\": \"Male\", \"HeightCm\": 180, \"WeightKg\": 77 }, { \"Gender\": \"Female\", \"HeightCm\": 166,\n",
    "\"WeightKg\": 62}, {\"Gender\": \"Female\", \"HeightCm\": 150, \"WeightKg\": 70}, {\"Gender\": \"Female\",\n",
    "\"HeightCm\": 167, \"WeightKg\": 82}]"
   ]
  },
  {
   "cell_type": "code",
   "execution_count": 11,
   "metadata": {},
   "outputs": [],
   "source": [
    "import numpy as np\n",
    "import pandas as pd"
   ]
  },
  {
   "cell_type": "code",
   "execution_count": 12,
   "metadata": {},
   "outputs": [],
   "source": [
    "BMIData= pd.DataFrame(BMI_list)"
   ]
  },
  {
   "cell_type": "code",
   "execution_count": 13,
   "metadata": {},
   "outputs": [
    {
     "data": {
      "text/html": [
       "<div>\n",
       "<style scoped>\n",
       "    .dataframe tbody tr th:only-of-type {\n",
       "        vertical-align: middle;\n",
       "    }\n",
       "\n",
       "    .dataframe tbody tr th {\n",
       "        vertical-align: top;\n",
       "    }\n",
       "\n",
       "    .dataframe thead th {\n",
       "        text-align: right;\n",
       "    }\n",
       "</style>\n",
       "<table border=\"1\" class=\"dataframe\">\n",
       "  <thead>\n",
       "    <tr style=\"text-align: right;\">\n",
       "      <th></th>\n",
       "      <th>Gender</th>\n",
       "      <th>HeightCm</th>\n",
       "      <th>WeightKg</th>\n",
       "    </tr>\n",
       "  </thead>\n",
       "  <tbody>\n",
       "    <tr>\n",
       "      <th>0</th>\n",
       "      <td>Male</td>\n",
       "      <td>171</td>\n",
       "      <td>96</td>\n",
       "    </tr>\n",
       "    <tr>\n",
       "      <th>1</th>\n",
       "      <td>Male</td>\n",
       "      <td>161</td>\n",
       "      <td>85</td>\n",
       "    </tr>\n",
       "    <tr>\n",
       "      <th>2</th>\n",
       "      <td>Male</td>\n",
       "      <td>180</td>\n",
       "      <td>77</td>\n",
       "    </tr>\n",
       "    <tr>\n",
       "      <th>3</th>\n",
       "      <td>Female</td>\n",
       "      <td>166</td>\n",
       "      <td>62</td>\n",
       "    </tr>\n",
       "    <tr>\n",
       "      <th>4</th>\n",
       "      <td>Female</td>\n",
       "      <td>150</td>\n",
       "      <td>70</td>\n",
       "    </tr>\n",
       "    <tr>\n",
       "      <th>5</th>\n",
       "      <td>Female</td>\n",
       "      <td>167</td>\n",
       "      <td>82</td>\n",
       "    </tr>\n",
       "  </tbody>\n",
       "</table>\n",
       "</div>"
      ],
      "text/plain": [
       "   Gender  HeightCm  WeightKg\n",
       "0    Male       171        96\n",
       "1    Male       161        85\n",
       "2    Male       180        77\n",
       "3  Female       166        62\n",
       "4  Female       150        70\n",
       "5  Female       167        82"
      ]
     },
     "execution_count": 13,
     "metadata": {},
     "output_type": "execute_result"
    }
   ],
   "source": [
    "BMIData"
   ]
  },
  {
   "cell_type": "code",
   "execution_count": 14,
   "metadata": {},
   "outputs": [
    {
     "data": {
      "text/plain": [
       "Index(['Gender', 'HeightCm', 'WeightKg'], dtype='object')"
      ]
     },
     "execution_count": 14,
     "metadata": {},
     "output_type": "execute_result"
    }
   ],
   "source": [
    "BMIData.columns"
   ]
  },
  {
   "cell_type": "code",
   "execution_count": 30,
   "metadata": {},
   "outputs": [
    {
     "name": "stdout",
     "output_type": "stream",
     "text": [
      "BMI of the person is:  56.14035087719298 kg/m2\n",
      "BMI of the person is:  52.79503105590062 kg/m2\n",
      "BMI of the person is:  42.77777777777778 kg/m2\n",
      "BMI of the person is:  37.34939759036145 kg/m2\n",
      "BMI of the person is:  46.666666666666664 kg/m2\n",
      "BMI of the person is:  49.10179640718563 kg/m2\n",
      "[56.14035087719298, 52.79503105590062, 42.77777777777778, 37.34939759036145, 46.666666666666664, 49.10179640718563]\n",
      "['Very severely obese', 'Very severely obese', 'Very severely obese', 'Severely obese', 'Very severely obese', 'Very severely obese']\n",
      "['Very high risk', 'Very high risk', 'Very high risk', 'High risk', 'Very high risk', 'Very high risk']\n"
     ]
    }
   ],
   "source": [
    "# Calculating BMI, BMI_Category and Health risk\n",
    "def bmifun(inpData,heights,weights):\n",
    "    BMI_kgm2=[]\n",
    "    BMI_Category=[]\n",
    "    Health_Risk=[]\n",
    "    ReturnList=[]\n",
    "    for h,w in zip(heights,weights):\n",
    "        bmi=(w*100)/h\n",
    "        print('BMI of the person is: ', bmi, 'kg/m2')\n",
    "        BMI_kgm2.append(bmi)\n",
    "        if(bmi<=18.4):\n",
    "            BMI_Category.append('UnderWeight')\n",
    "            Health_Risk.append('Malnutrition risk')\n",
    "        elif((bmi>18.5) & (bmi<24.9)):\n",
    "            BMI_Category.append('Normal weight')\n",
    "            Health_Risk.append('Low risk')\n",
    "        elif((bmi>25) & (bmi<29.9)):\n",
    "            BMI_Category.append('Overweight')\n",
    "            Health_Risk.append('Enhanced risk')\n",
    "        elif((bmi>30) & (bmi<34.9)):\n",
    "            BMI_Category.append('Moderately obese')\n",
    "            Health_Risk.append('Medium risk')\n",
    "        elif((bmi>35) & (bmi<39.9)):\n",
    "            BMI_Category.append('Severely obese')\n",
    "            Health_Risk.append('High risk')\n",
    "        else:\n",
    "            BMI_Category.append('Very severely obese')\n",
    "            Health_Risk.append('Very high risk')\n",
    "    print(BMI_kgm2)\n",
    "    print(BMI_Category)\n",
    "    print(Health_Risk)\n",
    "    ReturnList.append(BMI_kgm2)\n",
    "    ReturnList.append(BMI_Category)\n",
    "    ReturnList.append(Health_Risk)\n",
    "    return(ReturnList)\n",
    "\n",
    "Result= bmifun(inpData= BMIData, heights= BMIData['HeightCm'], weights= BMIData['WeightKg'])"
   ]
  },
  {
   "cell_type": "code",
   "execution_count": 31,
   "metadata": {},
   "outputs": [
    {
     "data": {
      "text/plain": [
       "[[56.14035087719298,\n",
       "  52.79503105590062,\n",
       "  42.77777777777778,\n",
       "  37.34939759036145,\n",
       "  46.666666666666664,\n",
       "  49.10179640718563],\n",
       " ['Very severely obese',\n",
       "  'Very severely obese',\n",
       "  'Very severely obese',\n",
       "  'Severely obese',\n",
       "  'Very severely obese',\n",
       "  'Very severely obese'],\n",
       " ['Very high risk',\n",
       "  'Very high risk',\n",
       "  'Very high risk',\n",
       "  'High risk',\n",
       "  'Very high risk',\n",
       "  'Very high risk']]"
      ]
     },
     "execution_count": 31,
     "metadata": {},
     "output_type": "execute_result"
    }
   ],
   "source": [
    "Result"
   ]
  },
  {
   "cell_type": "code",
   "execution_count": 16,
   "metadata": {},
   "outputs": [],
   "source": [
    "X= Result[0]\n",
    "Y= Result[1]\n",
    "Z= Result[2]"
   ]
  },
  {
   "cell_type": "code",
   "execution_count": 17,
   "metadata": {},
   "outputs": [],
   "source": [
    "# Adding 3 new columns\n",
    "New_Cols= ['BMI_kgm2', 'BMI_Category', 'Health_Risk']\n",
    "New_List= [X, Y, Z]\n",
    "for i,p in zip(New_Cols, New_List):\n",
    "    BMIData[i]=p"
   ]
  },
  {
   "cell_type": "code",
   "execution_count": 18,
   "metadata": {},
   "outputs": [
    {
     "data": {
      "text/html": [
       "<div>\n",
       "<style scoped>\n",
       "    .dataframe tbody tr th:only-of-type {\n",
       "        vertical-align: middle;\n",
       "    }\n",
       "\n",
       "    .dataframe tbody tr th {\n",
       "        vertical-align: top;\n",
       "    }\n",
       "\n",
       "    .dataframe thead th {\n",
       "        text-align: right;\n",
       "    }\n",
       "</style>\n",
       "<table border=\"1\" class=\"dataframe\">\n",
       "  <thead>\n",
       "    <tr style=\"text-align: right;\">\n",
       "      <th></th>\n",
       "      <th>Gender</th>\n",
       "      <th>HeightCm</th>\n",
       "      <th>WeightKg</th>\n",
       "      <th>BMI_kgm2</th>\n",
       "      <th>BMI_Category</th>\n",
       "      <th>Health_Risk</th>\n",
       "    </tr>\n",
       "  </thead>\n",
       "  <tbody>\n",
       "    <tr>\n",
       "      <th>0</th>\n",
       "      <td>Male</td>\n",
       "      <td>171</td>\n",
       "      <td>96</td>\n",
       "      <td>56.140351</td>\n",
       "      <td>Very severely obese</td>\n",
       "      <td>Very high risk</td>\n",
       "    </tr>\n",
       "    <tr>\n",
       "      <th>1</th>\n",
       "      <td>Male</td>\n",
       "      <td>161</td>\n",
       "      <td>85</td>\n",
       "      <td>52.795031</td>\n",
       "      <td>Very severely obese</td>\n",
       "      <td>Very high risk</td>\n",
       "    </tr>\n",
       "    <tr>\n",
       "      <th>2</th>\n",
       "      <td>Male</td>\n",
       "      <td>180</td>\n",
       "      <td>77</td>\n",
       "      <td>42.777778</td>\n",
       "      <td>Very severely obese</td>\n",
       "      <td>Very high risk</td>\n",
       "    </tr>\n",
       "    <tr>\n",
       "      <th>3</th>\n",
       "      <td>Female</td>\n",
       "      <td>166</td>\n",
       "      <td>62</td>\n",
       "      <td>37.349398</td>\n",
       "      <td>Severely obese</td>\n",
       "      <td>High risk</td>\n",
       "    </tr>\n",
       "    <tr>\n",
       "      <th>4</th>\n",
       "      <td>Female</td>\n",
       "      <td>150</td>\n",
       "      <td>70</td>\n",
       "      <td>46.666667</td>\n",
       "      <td>Very severely obese</td>\n",
       "      <td>Very high risk</td>\n",
       "    </tr>\n",
       "    <tr>\n",
       "      <th>5</th>\n",
       "      <td>Female</td>\n",
       "      <td>167</td>\n",
       "      <td>82</td>\n",
       "      <td>49.101796</td>\n",
       "      <td>Very severely obese</td>\n",
       "      <td>Very high risk</td>\n",
       "    </tr>\n",
       "  </tbody>\n",
       "</table>\n",
       "</div>"
      ],
      "text/plain": [
       "   Gender  HeightCm  WeightKg   BMI_kgm2         BMI_Category     Health_Risk\n",
       "0    Male       171        96  56.140351  Very severely obese  Very high risk\n",
       "1    Male       161        85  52.795031  Very severely obese  Very high risk\n",
       "2    Male       180        77  42.777778  Very severely obese  Very high risk\n",
       "3  Female       166        62  37.349398       Severely obese       High risk\n",
       "4  Female       150        70  46.666667  Very severely obese  Very high risk\n",
       "5  Female       167        82  49.101796  Very severely obese  Very high risk"
      ]
     },
     "execution_count": 18,
     "metadata": {},
     "output_type": "execute_result"
    }
   ],
   "source": [
    "BMIData"
   ]
  },
  {
   "cell_type": "code",
   "execution_count": 45,
   "metadata": {},
   "outputs": [
    {
     "data": {
      "text/plain": [
       "0"
      ]
     },
     "execution_count": 45,
     "metadata": {},
     "output_type": "execute_result"
    }
   ],
   "source": [
    "# Count the total number of overweight people\n",
    "BMIData['BMI_Category'][BMIData['BMI_Category']=='Overweight'].count()"
   ]
  },
  {
   "cell_type": "code",
   "execution_count": 54,
   "metadata": {},
   "outputs": [
    {
     "data": {
      "text/plain": [
       "0    96\n",
       "1    85\n",
       "5    82\n",
       "2    77\n",
       "4    70\n",
       "Name: WeightKg, dtype: int64"
      ]
     },
     "execution_count": 54,
     "metadata": {},
     "output_type": "execute_result"
    }
   ],
   "source": [
    "# Wights sorted in descending order of people whose heights greater than 160 cm and bmi greater than 50 kg/m2\n",
    "BMIData['WeightKg'][(BMIData['BMI_kgm2']>40)].sort_values(ascending= False)"
   ]
  },
  {
   "cell_type": "code",
   "execution_count": 51,
   "metadata": {},
   "outputs": [
    {
     "data": {
      "text/plain": [
       "2"
      ]
     },
     "execution_count": 51,
     "metadata": {},
     "output_type": "execute_result"
    }
   ],
   "source": [
    "# Count the total number of female bmi less than 50\n",
    "BMIData['Gender'][(BMIData['Gender']=='Female') & (BMIData['Health_Risk']== 'Very high risk')].count()"
   ]
  },
  {
   "cell_type": "code",
   "execution_count": 52,
   "metadata": {},
   "outputs": [
    {
     "data": {
      "text/plain": [
       "3"
      ]
     },
     "execution_count": 52,
     "metadata": {},
     "output_type": "execute_result"
    }
   ],
   "source": [
    "BMIData['Gender'][(BMIData['Gender']=='Male') & (BMIData['Health_Risk']== 'Very high risk')].count()"
   ]
  },
  {
   "cell_type": "code",
   "execution_count": 55,
   "metadata": {},
   "outputs": [
    {
     "data": {
      "text/plain": [
       "5"
      ]
     },
     "execution_count": 55,
     "metadata": {},
     "output_type": "execute_result"
    }
   ],
   "source": [
    "BMIData['Gender'][(BMIData['BMI_kgm2']>40)& (BMIData['Health_Risk']== 'Very high risk')].count()"
   ]
  },
  {
   "cell_type": "markdown",
   "metadata": {},
   "source": [
    "# Observations"
   ]
  },
  {
   "cell_type": "markdown",
   "metadata": {},
   "source": [
    "1. We can observe the weights of the people having BMI>40kg/m2\n",
    "2. We can check total no. of male or female are at very high risk\n",
    "3. We can count the total no. of people having BMI >40kg/m2 ar at very high risk"
   ]
  },
  {
   "cell_type": "code",
   "execution_count": null,
   "metadata": {},
   "outputs": [],
   "source": []
  },
  {
   "cell_type": "code",
   "execution_count": null,
   "metadata": {},
   "outputs": [],
   "source": []
  }
 ],
 "metadata": {
  "kernelspec": {
   "display_name": "Python 3",
   "language": "python",
   "name": "python3"
  },
  "language_info": {
   "codemirror_mode": {
    "name": "ipython",
    "version": 3
   },
   "file_extension": ".py",
   "mimetype": "text/x-python",
   "name": "python",
   "nbconvert_exporter": "python",
   "pygments_lexer": "ipython3",
   "version": "3.8.3"
  }
 },
 "nbformat": 4,
 "nbformat_minor": 4
}
